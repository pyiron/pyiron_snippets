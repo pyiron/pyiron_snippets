{
 "cells": [
  {
   "cell_type": "markdown",
   "id": "c44a93e4-1ce4-4a26-a82a-3d2bff41988b",
   "metadata": {},
   "source": [
    "# Demos"
   ]
  },
  {
   "cell_type": "markdown",
   "id": "51352718-c84e-4515-b033-f0cd80150269",
   "metadata": {},
   "source": [
    "## `DotDict`"
   ]
  },
  {
   "cell_type": "code",
   "execution_count": 1,
   "id": "0cef82c5-686f-4753-b8aa-ee8125f17380",
   "metadata": {},
   "outputs": [
    {
     "name": "stdout",
     "output_type": "stream",
     "text": [
      "this is dot accessible\n"
     ]
    }
   ],
   "source": [
    "from pyiron_snippets.dotdict import DotDict\n",
    "\n",
    "dd = DotDict({\"foo\": \"this is dot accessible\"})\n",
    "print(dd.foo)"
   ]
  },
  {
   "cell_type": "code",
   "execution_count": null,
   "id": "203b5240-0ce9-4c71-86a0-6048b45f7b0f",
   "metadata": {},
   "outputs": [],
   "source": []
  }
 ],
 "metadata": {
  "kernelspec": {
   "display_name": "Python 3 (ipykernel)",
   "language": "python",
   "name": "python3"
  },
  "language_info": {
   "codemirror_mode": {
    "name": "ipython",
    "version": 3
   },
   "file_extension": ".py",
   "mimetype": "text/x-python",
   "name": "python",
   "nbconvert_exporter": "python",
   "pygments_lexer": "ipython3",
   "version": "3.11.9"
  }
 },
 "nbformat": 4,
 "nbformat_minor": 5
}
